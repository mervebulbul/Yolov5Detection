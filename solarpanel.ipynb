{
 "cells": [
  {
   "cell_type": "code",
   "execution_count": 2,
   "id": "3ad521e6",
   "metadata": {},
   "outputs": [
    {
     "name": "stdout",
     "output_type": "stream",
     "text": [
      "Requirement already satisfied: torch in c:\\users\\mrvbu\\appdata\\local\\packages\\pythonsoftwarefoundation.python.3.11_qbz5n2kfra8p0\\localcache\\local-packages\\python310\\site-packages (2.0.0)\n",
      "Requirement already satisfied: sympy in c:\\users\\mrvbu\\appdata\\local\\packages\\pythonsoftwarefoundation.python.3.11_qbz5n2kfra8p0\\localcache\\local-packages\\python310\\site-packages (from torch) (1.11.1)\n",
      "Requirement already satisfied: networkx in c:\\users\\mrvbu\\appdata\\local\\packages\\pythonsoftwarefoundation.python.3.11_qbz5n2kfra8p0\\localcache\\local-packages\\python310\\site-packages (from torch) (3.1)\n",
      "Requirement already satisfied: filelock in c:\\users\\mrvbu\\appdata\\local\\packages\\pythonsoftwarefoundation.python.3.11_qbz5n2kfra8p0\\localcache\\local-packages\\python310\\site-packages (from torch) (3.12.0)\n",
      "Requirement already satisfied: jinja2 in c:\\users\\mrvbu\\appdata\\local\\packages\\pythonsoftwarefoundation.python.3.11_qbz5n2kfra8p0\\localcache\\local-packages\\python310\\site-packages (from torch) (3.1.2)\n",
      "Requirement already satisfied: typing-extensions in c:\\users\\mrvbu\\appdata\\local\\packages\\pythonsoftwarefoundation.python.3.11_qbz5n2kfra8p0\\localcache\\local-packages\\python310\\site-packages (from torch) (4.5.0)\n",
      "Requirement already satisfied: MarkupSafe>=2.0 in c:\\users\\mrvbu\\appdata\\local\\packages\\pythonsoftwarefoundation.python.3.11_qbz5n2kfra8p0\\localcache\\local-packages\\python310\\site-packages (from jinja2->torch) (2.1.2)\n",
      "Requirement already satisfied: mpmath>=0.19 in c:\\users\\mrvbu\\appdata\\local\\packages\\pythonsoftwarefoundation.python.3.11_qbz5n2kfra8p0\\localcache\\local-packages\\python310\\site-packages (from sympy->torch) (1.3.0)\n"
     ]
    },
    {
     "name": "stderr",
     "output_type": "stream",
     "text": [
      "\n",
      "[notice] A new release of pip is available: 23.0.1 -> 23.1.1\n",
      "[notice] To update, run: C:\\Users\\mrvbu\\AppData\\Local\\Microsoft\\WindowsApps\\PythonSoftwareFoundation.Python.3.10_qbz5n2kfra8p0\\python.exe -m pip install --upgrade pip\n"
     ]
    },
    {
     "name": "stdout",
     "output_type": "stream",
     "text": [
      "Requirement already satisfied: opencv-python in c:\\users\\mrvbu\\appdata\\local\\packages\\pythonsoftwarefoundation.python.3.11_qbz5n2kfra8p0\\localcache\\local-packages\\python310\\site-packages (4.7.0.72)"
     ]
    },
    {
     "name": "stderr",
     "output_type": "stream",
     "text": [
      "\n",
      "[notice] A new release of pip is available: 23.0.1 -> 23.1.1\n",
      "[notice] To update, run: C:\\Users\\mrvbu\\AppData\\Local\\Microsoft\\WindowsApps\\PythonSoftwareFoundation.Python.3.10_qbz5n2kfra8p0\\python.exe -m pip install --upgrade pip\n"
     ]
    },
    {
     "name": "stdout",
     "output_type": "stream",
     "text": [
      "\n",
      "Requirement already satisfied: numpy>=1.17.0 in c:\\users\\mrvbu\\appdata\\local\\packages\\pythonsoftwarefoundation.python.3.11_qbz5n2kfra8p0\\localcache\\local-packages\\python310\\site-packages (from opencv-python) (1.24.2)\n"
     ]
    }
   ],
   "source": [
    "!pip install torch\n",
    "!pip install opencv-python"
   ]
  },
  {
   "cell_type": "code",
   "execution_count": 3,
   "id": "25200831",
   "metadata": {
    "scrolled": false
   },
   "outputs": [
    {
     "name": "stderr",
     "output_type": "stream",
     "text": [
      "\u001b[31m\u001b[1mrequirements:\u001b[0m YOLOv5 requirement \"gitpython\" not found, attempting AutoUpdate...\n",
      "Requirement already satisfied: gitpython in c:\\users\\mrvbu\\appdata\\local\\packages\\pythonsoftwarefoundation.python.3.11_qbz5n2kfra8p0\\localcache\\local-packages\\python310\\site-packages (3.1.31)\n",
      "Requirement already satisfied: gitdb<5,>=4.0.1 in c:\\users\\mrvbu\\appdata\\local\\packages\\pythonsoftwarefoundation.python.3.11_qbz5n2kfra8p0\\localcache\\local-packages\\python310\\site-packages (from gitpython) (4.0.10)\n",
      "Requirement already satisfied: smmap<6,>=3.0.1 in c:\\users\\mrvbu\\appdata\\local\\packages\\pythonsoftwarefoundation.python.3.11_qbz5n2kfra8p0\\localcache\\local-packages\\python310\\site-packages (from gitdb<5,>=4.0.1->gitpython) (5.0.0)\n",
      "\n",
      "\u001b[31m\u001b[1mrequirements:\u001b[0m 1 package updated per C:\\Users\\mrvbu\\Solar panel project\\yolov5-master\\requirements.txt\n",
      "\u001b[31m\u001b[1mrequirements:\u001b[0m  \u001b[1mRestart runtime or rerun command for updates to take effect\u001b[0m\n",
      "\n",
      "YOLOv5  2023-1-21 Python-3.11.3 torch-2.0.0+cpu CPU\n",
      "\n",
      "Fusing layers... \n",
      "Model summary: 157 layers, 1761871 parameters, 0 gradients, 4.1 GFLOPs\n",
      "Adding AutoShape... \n"
     ]
    },
    {
     "name": "stdout",
     "output_type": "stream",
     "text": [
      "Using Device:  cpu\n"
     ]
    }
   ],
   "source": [
    "import torch\n",
    "import numpy as np\n",
    "import cv2\n",
    "from time import time\n",
    "\n",
    "\n",
    "class SolarPanel:\n",
    "    \n",
    "\n",
    "    def __init__(self, capture_index, model_name):\n",
    "        \"\"\"\n",
    "        hangi kamerayı kullancağımız, hangi modeli kullanacağımız ekran kartı mı yoksa işlemci mi kullanacağız\n",
    "        ve bazı değişkenlere atama yapıyoruz\n",
    "        \"\"\"\n",
    "        \n",
    "        self.capture_index = capture_index\n",
    "        self.model = self.load_model(model_name)\n",
    "        self.object_saved = set() \n",
    "        self.classes = self.model.names\n",
    "        self.device = 'cuda' if torch.cuda.is_available() else 'cpu'\n",
    "        print(\"Using Device: \", self.device)\n",
    "\n",
    "    def get_video_capture(self):\n",
    "        \"\"\"\n",
    "        kameradan görüntü alıyoruz\n",
    "        \"\"\"\n",
    "       \n",
    "        return cv2.VideoCapture(self.capture_index)\n",
    "\n",
    "    def load_model(self, model_name):\n",
    "        \"\"\"\n",
    "        Pytorch hub'dan Yolov5 modelini indiriyoruz\n",
    "        ve bunu modüle geri döndürüyoruz \n",
    "        \"\"\"\n",
    "        if model_name:\n",
    "            model = torch.hub.load('/Users/mrvbu/Solar panel project/yolov5-master', 'custom', path=model_name,source='local')\n",
    "       \n",
    "        return model\n",
    "\n",
    "    def score_frame(self, frame):\n",
    "        \"\"\"\n",
    "        kameradan aldığı görüntüyü modele sokarak ondan tahmin oranı alıyoruz \n",
    "        \"\"\"\n",
    "        self.model.to(self.device)\n",
    "        frame = [frame]\n",
    "        results = self.model(frame)\n",
    "        labels, cord = results.xyxyn[0][:, -1], results.xyxyn[0][:, :-1]\n",
    "        return labels, cord\n",
    "\n",
    "    def class_to_label(self, x):\n",
    "        \"\"\"\n",
    "        classlarımızı labela dönüştürüyoruz.\n",
    "        \"\"\"\n",
    "        return self.classes[int(x)]\n",
    "    def plot_boxes(self, results, frame):\n",
    "        \"\"\"\n",
    "        aranan objenin hangi konumlar içinde olduğunu buluyoruz.\n",
    "        \"\"\"\n",
    "        labels, cord = results\n",
    "        n = len(labels) \n",
    "        # .shape için --> 0 height, 1 width, 2 number of channels\n",
    "        #x_shape = genişlik w, y_shape = yükseklik h\n",
    "        x_shape, y_shape = frame.shape[1], frame.shape[0]\n",
    "\n",
    "\n",
    "        for i in range(n):\n",
    "            row = cord[i]\n",
    "            if row[4] >= 0.6:\n",
    "\n",
    "                x1, y1, x2, y2 = int(row[0]*x_shape), int(row[1]*y_shape), int(row[2]*x_shape), int(row[3]*y_shape)\n",
    "\n",
    "                valu = self.class_to_label(labels[i])\n",
    "\n",
    "                while \"BakimGereken\" == valu:\n",
    "                    red = (0, 0, 255)\n",
    "                    cv2.rectangle(frame, (x1, y1), (x2, y2), red, 2)\n",
    "                    cv2.putText(frame, f\"{valu} {row[4]:.2f}\", (x1, y1-20), cv2.FONT_HERSHEY_SIMPLEX, 0.9, red, 2)\n",
    "                    cv2.putText(frame, \"BakimGereken panel tespit edildi.\", (440,80), cv2.FONT_HERSHEY_SIMPLEX, 1.0, (255,255,255), 2)\n",
    "                    break\n",
    "                    \n",
    "                while \"Saglam\" == valu :\n",
    "                    green = (0, 255, 0)\n",
    "                    cv2.rectangle(frame, (x1, y1), (x2, y2), green, 2)\n",
    "                    cv2.putText(frame, f\"{valu} {row[4]:.2f}\", (x1, y1-20), cv2.FONT_HERSHEY_SIMPLEX, 0.9, green, 2)\n",
    "                    cv2.putText(frame, \"Saglam panel tespit edildi.\", (540,50), cv2.FONT_HERSHEY_SIMPLEX, 1.0, (255,255,255), 2)\n",
    "                    break\n",
    "\n",
    "        return frame\n",
    "\n",
    "    def __call__(self):\n",
    "        \n",
    "        \"\"\"\n",
    "        kameramızı açarak aranan nesnenin nerede olduğunu hangi nesne olduğunu ve % kaç olasılıkla onun olduğunu yazıyoruz.\n",
    "        \"\"\"\n",
    "        \n",
    "        cap = self.get_video_capture()\n",
    "        assert cap.isOpened()\n",
    "      \n",
    "        while True:\n",
    "              \n",
    "            ret, frame = cap.read()\n",
    "            if not ret:\n",
    "                print(\"Kamera okunamadı..\")\n",
    "                break\n",
    "            \n",
    "            frame = cv2.resize(frame, (1024,780))\n",
    "            \n",
    "            start_time = time()\n",
    "            results = self.score_frame(frame)\n",
    "                    \n",
    "                    \n",
    "            frame = self.plot_boxes(results, frame)\n",
    "            \n",
    "            end_time = time()\n",
    "            fps = 1/np.round(end_time - start_time, 2)\n",
    "            #print(f\"her saniye frame yaz : {fps}\")\n",
    "             \n",
    "            cv2.putText(frame, \"Kontrol ediliyor...\",(10, 50), cv2.FONT_HERSHEY_SIMPLEX, 1.0, (255,255,255), 2)\n",
    "            cv2.putText(frame, f'FPS: {int(fps)}',(10, 80), cv2.FONT_HERSHEY_SIMPLEX, 1.0, (255,255,255), 2)\n",
    "            cv2.imshow('Solar Panel Detection', frame)\n",
    "            \n",
    "            \n",
    "            if cv2.waitKey(1) & 0xFF == ord('q'):\n",
    "                break\n",
    "      \n",
    "        cap.release()\n",
    "        \n",
    "        cv2.destroyAllWindows()\n",
    "        \n",
    "\n",
    "detector = SolarPanel(capture_index='videoooo.avi', model_name='yeni_modeln.pt')\n",
    "detector()"
   ]
  },
  {
   "cell_type": "code",
   "execution_count": null,
   "id": "1f516950",
   "metadata": {},
   "outputs": [],
   "source": []
  },
  {
   "cell_type": "code",
   "execution_count": null,
   "id": "a2c3dc33",
   "metadata": {},
   "outputs": [],
   "source": []
  }
 ],
 "metadata": {
  "kernelspec": {
   "display_name": "Python 3 (ipykernel)",
   "language": "python",
   "name": "python3"
  },
  "language_info": {
   "codemirror_mode": {
    "name": "ipython",
    "version": 3
   },
   "file_extension": ".py",
   "mimetype": "text/x-python",
   "name": "python",
   "nbconvert_exporter": "python",
   "pygments_lexer": "ipython3",
   "version": "3.11.3"
  }
 },
 "nbformat": 4,
 "nbformat_minor": 5
}
